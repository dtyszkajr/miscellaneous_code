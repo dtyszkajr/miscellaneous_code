{
 "cells": [
  {
   "cell_type": "markdown",
   "metadata": {},
   "source": [
    "# Q-Learning into FrozenLake Problem"
   ]
  },
  {
   "cell_type": "markdown",
   "metadata": {},
   "source": [
    "I've been searching for some simple reinforcement learning applications in order to understand the concepts and intuition. This notebook is just my attempt to explain (what better way to learn than this) how I see this specific approach.\n",
    "\n",
    "I don't intent to explain it all or go deep. I am actually following other people's work ([Arthur Juliani](https://medium.com/@awjuliani \"Juliani's Medium\") in this case - big thanks).\n",
    "\n",
    "The links for the content this notebook is based on are:  \n",
    "https://medium.com/emergent-future/simple-reinforcement-learning-with-tensorflow-part-0-q-learning-with-tables-and-neural-networks-d195264329d0  \n",
    "https://gym.openai.com/envs/FrozenLake-v0/"
   ]
  },
  {
   "cell_type": "markdown",
   "metadata": {},
   "source": [
    "## The Problem"
   ]
  },
  {
   "cell_type": "markdown",
   "metadata": {},
   "source": [
    "This problem is one of the many environments to learn, test and apply reinforcements algorithms from the [Gym Toolkit](https://gym.openai.com/), check them out.\n",
    "\n",
    "In this problem, we have a grid of tiles and a character has to navigate from a point A to a point B only using step-moves horizontally and vertically. The tiles positions are all predefined. The grid looks like this:\n",
    "\n",
    "\n",
    "``\n",
    "-------------Legend\n",
    "[S][F][F][F] (S: starting point, safe)  \n",
    "[F][H][F][H] (F: frozen surface, safe)  \n",
    "[F][F][F][H] (H: hole, fall to your doom)  \n",
    "[H][F][F][G] (G: goal, where the frisbee is located)  \n",
    "``\n",
    "\n",
    "Your goal is to go from \"S\" to \"G\" without falling into a hole. The environment has a \"slippery\" feature where you sometimes move in a unintentional direction in order to add some randomness (I will remove this feature to simplify my case).\n",
    "\n",
    "The Gym toolkit provides an interface where you don't need to worry about the game, restrictions, etc. You just send commands and observe the outcome. Neat."
   ]
  },
  {
   "cell_type": "markdown",
   "metadata": {},
   "source": [
    "## The Approach"
   ]
  },
  {
   "cell_type": "markdown",
   "metadata": {},
   "source": [
    "In this notebook, I will use a technique called Q-Learning, which is a very simplistic but maybe a good start to use some logic to solve this game.\n",
    "\n",
    "This approach uses a table to store your preference for an action (action in this case is walking left, down, right or up) for each and possible position in the grid. This means it grows very fast with more complexity, and also the path taken to get to that tile doesn't matter that much.\n"
   ]
  },
  {
   "cell_type": "markdown",
   "metadata": {},
   "source": [
    "To give a quick example, lets imagine we see only the first few rows for our example, lets name each tile:"
   ]
  },
  {
   "cell_type": "markdown",
   "metadata": {},
   "source": [
    "<table>\n",
    "  <tr>\n",
    "    <td>[a]</td>\n",
    "    <td>[b]</td>\n",
    "    <td>[c]</td>\n",
    "    <td>[d]</td>\n",
    "  </tr>\n",
    "  <tr>\n",
    "    <td>[e]</td>\n",
    "    <td>[f]</td>\n",
    "    <td>[g]</td>\n",
    "    <td>[a]</td>\n",
    "  </tr>\n",
    "</table>\n"
   ]
  },
  {
   "cell_type": "markdown",
   "metadata": {},
   "source": [
    "This would generate the following table (random values, first few rows):"
   ]
  },
  {
   "cell_type": "markdown",
   "metadata": {},
   "source": [
    "<table>\n",
    "  <tr>\n",
    "    <th></th>\n",
    "    <th>left</th>\n",
    "    <th>down</th>\n",
    "    <th>right</th>\n",
    "    <th>up</th>\n",
    "  </tr>\n",
    "  <tr>\n",
    "    <td>**a**</td>\n",
    "    <td>0</td>\n",
    "    <td>0.5</td>\n",
    "    <td>0.7</td>\n",
    "    <td>0</td>\n",
    "  </tr>\n",
    "  <tr>\n",
    "    <td>**b**</td>\n",
    "    <td>0.2</td>\n",
    "    <td>0.4</td>\n",
    "    <td>0.1</td>\n",
    "    <td>0</td>\n",
    "  </tr>\n",
    "  <tr>\n",
    "    <td>**c**</td>\n",
    "    <td>0.3</td>\n",
    "    <td>0.8</td>\n",
    "    <td>0.2</td>\n",
    "    <td>0</td>\n",
    "  </tr>\n",
    "  <tr>\n",
    "    <td>**d**</td>\n",
    "    <td>0.1</td>\n",
    "    <td>0.9</td>\n",
    "    <td>0</td>\n",
    "    <td>0</td>\n",
    "  </tr>\n",
    "</table>"
   ]
  },
  {
   "cell_type": "markdown",
   "metadata": {},
   "source": [
    "Each row represents a tile position, and each column is a action. This means that if you are at the \"b\" tile, there is no value in going up and the best action should be going down, since the expected reward for this action is the best for this position."
   ]
  },
  {
   "cell_type": "markdown",
   "metadata": {},
   "source": [
    "The algorithm starts with an initial empty table (lets call it Q-table) with zeros, meaning there are any rewards stored for any action in any position. We run several tryouts (lets call it episodes), this episodes are simply attempts to play the game that end when you reach the goal, fall into a hole or exceeds the arbitrary number of max steps.\n",
    "\n",
    "For each step you decide the next action based on the expected future reward for that action.\n",
    "\n",
    "After the action taken, you see the results and update the Q-table accordingly. If you are not finished yet, you take the next action, until the end of the episode."
   ]
  },
  {
   "cell_type": "markdown",
   "metadata": {},
   "source": [
    "I would like to bring attention to the two more interesting parts of this algorithm: the deciding of the next action and the Q-table update."
   ]
  },
  {
   "cell_type": "markdown",
   "metadata": {},
   "source": [
    "##### Deciding which action to take\n",
    "\n",
    "At the start you wouldn't have values for actions so you have to use some randomness to decide, this should be happening less and less with knowledge about the results of actions, this gradual change is good because you don't simply stop trying new things unless you have more certainty about an action.\n",
    "\n",
    "We do this using this formula:\n",
    "\n",
    "$ \\text{action_taken} = \\text{action_with_max_value}( \\text{stored_action_values} + \\text{diminishing_randomness} )$\n",
    "\n",
    "In which the \"diminishing randomness\" is a vector with same size as the stored action values vector with random values from the standard normal distribution that gets weighted down as the algorithm advances with more episodes. This is done in order to help the lack of information in the beginning but still helping to experiment other actions.\n",
    "\n"
   ]
  },
  {
   "cell_type": "markdown",
   "metadata": {},
   "source": [
    "##### Updating the Q-Table\n",
    "\n",
    "After observing the result of the action, you update the value by:\n",
    "\n",
    "$ \\text{new_expected_reward} = \\text{old_stored_value} + \\text{expected_future_value} $\n",
    "\n",
    "Where the \"Expected Future Value\" is calculated by:\n",
    "\n",
    "<sub> $ \\text{expected_future_value} = \\text{learning_rate} * (\\text{reward_from_action} + \\text{discount} * Max(\\text{next_position_actions_rewards}) - \\text{old_stored_value}) $ </sub>\n",
    "\n",
    "Where there are two variables you have to tune depending on the problem. This method seems to work backwards, because our problem only gives the reward at the last correct step, so the table values would start to be built from the finish to the start."
   ]
  },
  {
   "cell_type": "markdown",
   "metadata": {},
   "source": [
    "## The Code"
   ]
  },
  {
   "cell_type": "code",
   "execution_count": 15,
   "metadata": {},
   "outputs": [],
   "source": [
    "import gym\n",
    "import matplotlib.pyplot as plt\n",
    "import numpy as np\n",
    "%matplotlib inline"
   ]
  },
  {
   "cell_type": "code",
   "execution_count": 4,
   "metadata": {},
   "outputs": [],
   "source": [
    "gym.envs.registration.register(\n",
    "    id='FrozenLake_notSlippery-v0',\n",
    "    entry_point='gym.envs.toy_text:FrozenLakeEnv',\n",
    "    kwargs={'map_name' : '4x4', 'is_slippery':False}\n",
    ")"
   ]
  },
  {
   "cell_type": "markdown",
   "metadata": {},
   "source": [
    "This register a new environment without the feature of slipperiness, for a first look I think is better to grasp how everything works"
   ]
  },
  {
   "cell_type": "code",
   "execution_count": 65,
   "metadata": {},
   "outputs": [],
   "source": [
    "env = gym.make('FrozenLake_notSlippery-v0')\n",
    "Q = np.zeros([env.observation_space.n,env.action_space.n])\n",
    "lr = .8  # learning rate\n",
    "y = .95  # \"correction\"/\"penalty\" for future rewards expectation\n",
    "# Thanks to https://github.com/PraneetDutta for this optimal parameters\n",
    "num_episodes = 250\n",
    "jList = []  # list of steps taken\n",
    "rList = []  # list of rewards\n",
    "qList = []  # list of tables"
   ]
  },
  {
   "cell_type": "markdown",
   "metadata": {},
   "source": [
    "After that we set some initial objects like out empty Q-Table, tuning variables, number of episodes, etc"
   ]
  },
  {
   "cell_type": "code",
   "execution_count": 66,
   "metadata": {},
   "outputs": [],
   "source": [
    "for i in range(num_episodes):\n",
    "    s = env.reset()  # starting fresh environment and episode variables\n",
    "    rAll = 0  # sum of all rewards for this episode\n",
    "    d = False  # \"done\" variable: indicates if the episode is finished\n",
    "    j = 0  # steps counter\n",
    "    while j < 99:\n",
    "        j+=1\n",
    "        rew_sto = Q[s,:]  # stored rewards for actions\n",
    "        rew_rand = np.random.randn(1,env.action_space.n)*(1./(i+1))  # randomness to test other options\n",
    "        a = np.argmax(rew_sto + rew_rand)  # deciding what action to take\n",
    "        # executing action and storing results\n",
    "        s1,r,d,_ = env.step(a)  # s1: next tile, r: reward, d: done?\n",
    "        # updating Q-Table\n",
    "        rew_step = Q[s,a]  # stored reward so far\n",
    "        rew_fut = lr*(r + y*np.max(Q[s1,:]) - Q[s,a])  # expected future reward\n",
    "        Q[s,a] = rew_step + rew_fut  # updating reward for step taken\n",
    "        # setting up for next step\n",
    "        rAll += r  # summing reward for posterior analysis\n",
    "        s = s1  # updating tile position\n",
    "        # verifying if game stoped (hole or goal reached)\n",
    "        if d == True:\n",
    "            break\n",
    "    # appending episode results\n",
    "    jList.append(j)\n",
    "    rList.append(rAll)\n",
    "    qList.append(Q.copy())"
   ]
  },
  {
   "cell_type": "markdown",
   "metadata": {},
   "source": [
    "We stored the final Q-table, as well as how many steps it took to finish the problem and the rewards for each episode"
   ]
  },
  {
   "cell_type": "code",
   "execution_count": 67,
   "metadata": {
    "scrolled": true
   },
   "outputs": [
    {
     "data": {
      "image/png": "[encoded data removed]",
      "text/plain": [
       "<matplotlib.figure.Figure at 0x7efc535d7ef0>"
      ]
     },
     "metadata": {},
     "output_type": "display_data"
    }
   ],
   "source": [
    "y_pos = [x for x in range(len(jList))]\n",
    "fig, ax = plt.subplots(figsize=(15,5))\n",
    "p1 = ax.plot(y_pos, jList, alpha=0.4, label='steps')\n",
    "p2 = ax.plot(y_pos, rList, alpha=0.4, label='final reward')\n",
    "ax.set_ylabel('Steps')\n",
    "ax.set_xlabel('Episodes')\n",
    "ax.set_title('Steps to Finish Problem')\n",
    "ax.legend(loc='upper right', shadow=True)\n",
    "plt.show()"
   ]
  },
  {
   "cell_type": "markdown",
   "metadata": {},
   "source": [
    "The blue line show how many steps each episode took, and the brown one shows the reward for the episode. We can see some randomness until the Q-table stabilizes on the best values.\n",
    "\n",
    "I would expect this graph to be a rough diminishingly curve, but the \"holes\" in the grid make it harder to achieve the goal. Running multiple times I observed the numbers of episodes to reach the best value being between 50 and 250.\n",
    "\n",
    "As I suspected, this randomness is about getting to a known tile with a positive next action, once it is reached, the Q-table starts to build itself from the end to the start. But knowing half of the way seems to not help diminishing the number of steps until you know it all."
   ]
  },
  {
   "cell_type": "code",
   "execution_count": 69,
   "metadata": {},
   "outputs": [
    {
     "data": {
      "text/plain": [
       "array([[0.        , 0.77378094, 0.        , 0.        ],\n",
       "       [0.        , 0.        , 0.        , 0.        ],\n",
       "       [0.        , 0.        , 0.        , 0.        ],\n",
       "       [0.        , 0.        , 0.        , 0.        ],\n",
       "       [0.        , 0.81450625, 0.        , 0.        ],\n",
       "       [0.        , 0.        , 0.        , 0.        ],\n",
       "       [0.        , 0.7023616 , 0.        , 0.        ],\n",
       "       [0.        , 0.        , 0.        , 0.        ],\n",
       "       [0.        , 0.        , 0.857375  , 0.        ],\n",
       "       [0.        , 0.        , 0.9025    , 0.        ],\n",
       "       [0.        , 0.95      , 0.        , 0.        ],\n",
       "       [0.        , 0.        , 0.        , 0.        ],\n",
       "       [0.        , 0.        , 0.        , 0.        ],\n",
       "       [0.        , 0.        , 0.        , 0.        ],\n",
       "       [0.        , 0.        , 1.        , 0.        ],\n",
       "       [0.        , 0.        , 0.        , 0.        ]])"
      ]
     },
     "execution_count": 69,
     "metadata": {},
     "output_type": "execute_result"
    }
   ],
   "source": [
    " Q"
   ]
  },
  {
   "cell_type": "markdown",
   "metadata": {},
   "source": [
    "Looking at the final Q-Table we see that in general as you are approaching the goal tile, the expected reward value increases."
   ]
  }
 ],
 "metadata": {
  "kernelspec": {
   "display_name": "Python 3",
   "language": "python",
   "name": "python3"
  },
  "language_info": {
   "codemirror_mode": {
    "name": "ipython",
    "version": 3
   },
   "file_extension": ".py",
   "mimetype": "text/x-python",
   "name": "python",
   "nbconvert_exporter": "python",
   "pygments_lexer": "ipython3",
   "version": "3.5.2"
  }
 },
 "nbformat": 4,
 "nbformat_minor": 2
}
