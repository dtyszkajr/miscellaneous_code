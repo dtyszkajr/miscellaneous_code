{
 "cells": [
  {
   "cell_type": "markdown",
   "metadata": {},
   "source": [
    "# Simple analysis of HTTP requests to the NASA Kennedy Space Center WWW server logs\n",
    "\n",
    "### About\n",
    "\n",
    "The objective of this project is to do some basic analysis of access logs from one of NASA's website.\n",
    "\n",
    "This analysis should answer some proposed questions using Spark and Python3:\n",
    "1. Number of unique hosts;\n",
    "2. Total number of 404 errors;\n",
    "3. Top 5 URLs with 404 error;\n",
    "4. 404 errors occurrences by day;\n",
    "5. Grand total of bytes returned;\n",
    "\n",
    "### What was used\n",
    "\n",
    "The used data can be downloaded from \n",
    "\n",
    "ftp://ita.ee.lbl.gov/traces/NASA_access_log_Jul95.gz\n",
    "\n",
    "ftp://ita.ee.lbl.gov/traces/NASA_access_log_Aug95.gz\n",
    "\n",
    "More information about the data can be found in this [link](http://ita.ee.lbl.gov/html/contrib/NASA-HTTP.html).\n",
    "\n",
    "### Final Thoughts\n",
    "\n",
    "The most probable source of errors in this kind of task would be the log parsing, because it is sort of text analysis and the regular expressions must be on point."
   ]
  },
  {
   "cell_type": "code",
   "execution_count": null,
   "metadata": {},
   "outputs": [],
   "source": []
  },
  {
   "cell_type": "code",
   "execution_count": 1,
   "metadata": {},
   "outputs": [],
   "source": [
    "# IMPORTS\n",
    "from pyspark.sql import SparkSession\n",
    "import datetime\n",
    "import pyspark.sql.functions as sparkF\n",
    "import pyspark.sql.types as sparkT"
   ]
  },
  {
   "cell_type": "code",
   "execution_count": 2,
   "metadata": {},
   "outputs": [],
   "source": [
    "# FUNCTIONS\n",
    "DateParser = sparkF.udf(lambda x: datetime.datetime.strptime(x, '%d/%b/%Y:%H:%M:%S %z'), sparkT.DateType())"
   ]
  },
  {
   "cell_type": "code",
   "execution_count": 3,
   "metadata": {},
   "outputs": [],
   "source": [
    "# INITIALIZATIONS\n",
    "spark = SparkSession.builder.getOrCreate()"
   ]
  },
  {
   "cell_type": "code",
   "execution_count": 4,
   "metadata": {},
   "outputs": [],
   "source": [
    "# PREPARING DATA\n",
    "data_locations = [\n",
    "                    \"./NASA_access_log_Jul95.gz\",\n",
    "                    \"./NASA_access_log_Aug95.gz\"\n",
    "                 ]\n",
    "# iterating over data sources\n",
    "logs = spark.read.text(data_locations[0])\n",
    "if len(data_locations) > 1:\n",
    "    for loc in data_locations[1:]:\n",
    "        logs = logs.union(spark.read.text(loc))"
   ]
  },
  {
   "cell_type": "code",
   "execution_count": 5,
   "metadata": {},
   "outputs": [
    {
     "data": {
      "text/plain": [
       "3461613"
      ]
     },
     "execution_count": 5,
     "metadata": {},
     "output_type": "execute_result"
    }
   ],
   "source": [
    "# row number\n",
    "logs.count()"
   ]
  },
  {
   "cell_type": "code",
   "execution_count": 6,
   "metadata": {},
   "outputs": [
    {
     "name": "stdout",
     "output_type": "stream",
     "text": [
      "+------------------------------------------------------------------------------------------+\n",
      "|                                                                                     value|\n",
      "+------------------------------------------------------------------------------------------+\n",
      "|    199.72.81.55 - - [01/Jul/1995:00:00:01 -0400] \"GET /history/apollo/ HTTP/1.0\" 200 6245|\n",
      "|unicomp6.unicomp.net - - [01/Jul/1995:00:00:06 -0400] \"GET /shuttle/countdown/ HTTP/1.0...|\n",
      "|199.120.110.21 - - [01/Jul/1995:00:00:09 -0400] \"GET /shuttle/missions/sts-73/mission-s...|\n",
      "|burger.letters.com - - [01/Jul/1995:00:00:11 -0400] \"GET /shuttle/countdown/liftoff.htm...|\n",
      "|199.120.110.21 - - [01/Jul/1995:00:00:11 -0400] \"GET /shuttle/missions/sts-73/sts-73-pa...|\n",
      "|burger.letters.com - - [01/Jul/1995:00:00:12 -0400] \"GET /images/NASA-logosmall.gif HTT...|\n",
      "+------------------------------------------------------------------------------------------+\n",
      "only showing top 6 rows\n",
      "\n"
     ]
    }
   ],
   "source": [
    "# dataframe head\n",
    "logs.show(6, truncate=90)"
   ]
  },
  {
   "cell_type": "code",
   "execution_count": 7,
   "metadata": {},
   "outputs": [],
   "source": [
    "# parsing data\n",
    "logs_data = logs\\\n",
    "            .select(\n",
    "                sparkF.regexp_extract('value', '^([^\\s]+)', 1).alias('host'),\n",
    "                DateParser(sparkF.regexp_extract('value', '\\[(.*?)\\]', 1)).alias('timestamp'),\n",
    "                sparkF.regexp_extract('value', '\\\"[^\\s]+ ([^\\s]+) [^\\s]+\\\"', 1).alias('request_url'),\n",
    "                sparkF.regexp_extract('value', '\\\"\\s([^\\s]+)', 1).alias('return_code'),\n",
    "                sparkF.regexp_extract('value', '([^\\s]+)$', 1).cast(\"integer\").alias('size')\n",
    "            )\\\n",
    "            .fillna(0, subset='size')\n",
    "# DateParser function is slow but do the job\n",
    "# error is thrown if this DF gets cached"
   ]
  },
  {
   "cell_type": "code",
   "execution_count": 8,
   "metadata": {},
   "outputs": [
    {
     "name": "stdout",
     "output_type": "stream",
     "text": [
      "+--------------------+----------+---------------------------------------------+-----------+----+\n",
      "|                host| timestamp|                                  request_url|return_code|size|\n",
      "+--------------------+----------+---------------------------------------------+-----------+----+\n",
      "|        199.72.81.55|1995-07-01|                             /history/apollo/|        200|6245|\n",
      "|unicomp6.unicomp.net|1995-07-01|                          /shuttle/countdown/|        200|3985|\n",
      "|      199.120.110.21|1995-07-01| /shuttle/missions/sts-73/mission-sts-73.html|        200|4085|\n",
      "|  burger.letters.com|1995-07-01|              /shuttle/countdown/liftoff.html|        304|   0|\n",
      "|      199.120.110.21|1995-07-01|/shuttle/missions/sts-73/sts-73-patch-smal...|        200|4179|\n",
      "|  burger.letters.com|1995-07-01|                   /images/NASA-logosmall.gif|        304|   0|\n",
      "+--------------------+----------+---------------------------------------------+-----------+----+\n",
      "only showing top 6 rows\n",
      "\n"
     ]
    }
   ],
   "source": [
    "# clean dataframe head\n",
    "logs_data.show(6, truncate=45)"
   ]
  },
  {
   "cell_type": "markdown",
   "metadata": {},
   "source": [
    "# Proposed Questions"
   ]
  },
  {
   "cell_type": "markdown",
   "metadata": {},
   "source": [
    "### 1. Number of unique hosts"
   ]
  },
  {
   "cell_type": "code",
   "execution_count": 9,
   "metadata": {},
   "outputs": [
    {
     "data": {
      "text/plain": [
       "137979"
      ]
     },
     "execution_count": 9,
     "metadata": {},
     "output_type": "execute_result"
    }
   ],
   "source": [
    "# logs_data.agg(sparkF.countDistinct(sparkF.col('host')).alias('distinct_hosts')).collect()  # another way of doing it\n",
    "logs_data.select('host').distinct().count()\n",
    "# 137979"
   ]
  },
  {
   "cell_type": "markdown",
   "metadata": {},
   "source": [
    "### 2. Total number of 404 errors"
   ]
  },
  {
   "cell_type": "code",
   "execution_count": 10,
   "metadata": {},
   "outputs": [
    {
     "data": {
      "text/plain": [
       "20873"
      ]
     },
     "execution_count": 10,
     "metadata": {},
     "output_type": "execute_result"
    }
   ],
   "source": [
    "logs_data.filter(sparkF.col('return_code') == 404).count()\n",
    "# 20873"
   ]
  },
  {
   "cell_type": "markdown",
   "metadata": {},
   "source": [
    "### 3. Top 5 URLs with 404 error"
   ]
  },
  {
   "cell_type": "code",
   "execution_count": 11,
   "metadata": {},
   "outputs": [
    {
     "name": "stdout",
     "output_type": "stream",
     "text": [
      "+--------------------------------------------+-----+\n",
      "|request_url                                 |count|\n",
      "+--------------------------------------------+-----+\n",
      "|/pub/winvn/readme.txt                       |2004 |\n",
      "|/pub/winvn/release.txt                      |1732 |\n",
      "|/shuttle/missions/STS-69/mission-STS-69.html|682  |\n",
      "|/shuttle/missions/sts-68/ksc-upclose.gif    |426  |\n",
      "|/history/apollo/a-001/a-001-patch-small.gif |384  |\n",
      "+--------------------------------------------+-----+\n",
      "only showing top 5 rows\n",
      "\n"
     ]
    }
   ],
   "source": [
    "urls404 = logs_data\\\n",
    "            .filter(sparkF.col('return_code') == 404)\\\n",
    "            .groupby('request_url')\\\n",
    "            .count()\\\n",
    "            .sort(sparkF.col('count').desc())\n",
    "# for row in urls404.collect()[:5]:  # printing only the urls\n",
    "#     print(row['request_url'])\n",
    "urls404.show(5, truncate=False)\n",
    "# /pub/winvn/readme.txt\n",
    "# /pub/winvn/release.txt\n",
    "# /shuttle/missions/STS-69/mission-STS-69.html\n",
    "# /shuttle/missions/sts-68/ksc-upclose.gif\n",
    "# /history/apollo/a-001/a-001-patch-small.gif"
   ]
  },
  {
   "cell_type": "markdown",
   "metadata": {},
   "source": [
    "### 4. 404 errors occurrences by day"
   ]
  },
  {
   "cell_type": "code",
   "execution_count": 12,
   "metadata": {},
   "outputs": [
    {
     "name": "stdout",
     "output_type": "stream",
     "text": [
      "+----------+-----+\n",
      "| timestamp|count|\n",
      "+----------+-----+\n",
      "|1995-07-01|  316|\n",
      "|1995-07-02|  291|\n",
      "|1995-07-03|  470|\n",
      "|1995-07-04|  359|\n",
      "|1995-07-05|  497|\n",
      "|1995-07-06|  640|\n",
      "|1995-07-07|  569|\n",
      "|1995-07-08|  302|\n",
      "|1995-07-09|  348|\n",
      "|1995-07-10|  398|\n",
      "|1995-07-11|  471|\n",
      "|1995-07-12|  470|\n",
      "|1995-07-13|  531|\n",
      "|1995-07-14|  411|\n",
      "|1995-07-15|  254|\n",
      "|1995-07-16|  257|\n",
      "|1995-07-17|  406|\n",
      "|1995-07-18|  465|\n",
      "|1995-07-19|  638|\n",
      "|1995-07-20|  428|\n",
      "+----------+-----+\n",
      "only showing top 20 rows\n",
      "\n"
     ]
    }
   ],
   "source": [
    "urls404_by_day = logs_data\\\n",
    "                .filter(sparkF.col('return_code') == 404)\\\n",
    "                .groupby('timestamp')\\\n",
    "                .count()\\\n",
    "                .sort(sparkF.col('timestamp').asc())\n",
    "urls404_by_day.show(20)"
   ]
  },
  {
   "cell_type": "markdown",
   "metadata": {},
   "source": [
    "### 5. Grand total of bytes returned"
   ]
  },
  {
   "cell_type": "code",
   "execution_count": 13,
   "metadata": {},
   "outputs": [
    {
     "data": {
      "text/plain": [
       "65524314915"
      ]
     },
     "execution_count": 13,
     "metadata": {},
     "output_type": "execute_result"
    }
   ],
   "source": [
    "logs_data.groupBy().sum('size').collect()[0]['sum(size)']\n",
    "# 65524314915"
   ]
  }
 ],
 "metadata": {
  "kernelspec": {
   "display_name": "Python 3",
   "language": "python",
   "name": "python3"
  },
  "language_info": {
   "codemirror_mode": {
    "name": "ipython",
    "version": 3
   },
   "file_extension": ".py",
   "mimetype": "text/x-python",
   "name": "python",
   "nbconvert_exporter": "python",
   "pygments_lexer": "ipython3",
   "version": "3.6.6"
  }
 },
 "nbformat": 4,
 "nbformat_minor": 2
}
