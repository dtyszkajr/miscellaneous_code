{
 "cells": [
  {
   "cell_type": "markdown",
   "metadata": {},
   "source": [
    "# Search Engine using the BM25 Algorithm"
   ]
  },
  {
   "cell_type": "markdown",
   "metadata": {},
   "source": [
    "The goal is to apply one method (BM25) of ranking documents according to a query."
   ]
  },
  {
   "cell_type": "code",
   "execution_count": 45,
   "metadata": {
    "collapsed": true
   },
   "outputs": [],
   "source": [
    "# imports\n",
    "from nltk.corpus import reuters\n",
    "import math\n",
    "import pandas as pd\n",
    "from sklearn.feature_extraction.text import CountVectorizer\n",
    "import numpy as np\n",
    "import time\n",
    "import random"
   ]
  },
  {
   "cell_type": "markdown",
   "metadata": {},
   "source": [
    "First we need a database to use as an example. In a search engine like google these documents would be web pages. In our case I will use the reuters corpus from the nltk package. This corpus consists in over 10k news over various topics."
   ]
  },
  {
   "cell_type": "code",
   "execution_count": 28,
   "metadata": {},
   "outputs": [
    {
     "name": "stdout",
     "output_type": "stream",
     "text": [
      "(10788, 2)\n"
     ]
    },
    {
     "data": {
      "text/html": [
       "<div>\n",
       "<style>\n",
       "    .dataframe thead tr:only-child th {\n",
       "        text-align: right;\n",
       "    }\n",
       "\n",
       "    .dataframe thead th {\n",
       "        text-align: left;\n",
       "    }\n",
       "\n",
       "    .dataframe tbody tr th {\n",
       "        vertical-align: top;\n",
       "    }\n",
       "</style>\n",
       "<table border=\"1\" class=\"dataframe\">\n",
       "  <thead>\n",
       "    <tr style=\"text-align: right;\">\n",
       "      <th></th>\n",
       "      <th>content</th>\n",
       "      <th>id</th>\n",
       "    </tr>\n",
       "  </thead>\n",
       "  <tbody>\n",
       "    <tr>\n",
       "      <th>0</th>\n",
       "      <td>ASIAN EXPORTERS FEAR DAMAGE FROM U.S.-JAPAN RI...</td>\n",
       "      <td>test/14826</td>\n",
       "    </tr>\n",
       "    <tr>\n",
       "      <th>1</th>\n",
       "      <td>CHINA DAILY SAYS VERMIN EAT 7-12 PCT GRAIN STO...</td>\n",
       "      <td>test/14828</td>\n",
       "    </tr>\n",
       "    <tr>\n",
       "      <th>2</th>\n",
       "      <td>JAPAN TO REVISE LONG-TERM ENERGY DEMAND DOWNWA...</td>\n",
       "      <td>test/14829</td>\n",
       "    </tr>\n",
       "    <tr>\n",
       "      <th>3</th>\n",
       "      <td>THAI TRADE DEFICIT WIDENS IN FIRST QUARTER Tha...</td>\n",
       "      <td>test/14832</td>\n",
       "    </tr>\n",
       "    <tr>\n",
       "      <th>4</th>\n",
       "      <td>INDONESIA SEES CPO PRICE RISING SHARPLY Indone...</td>\n",
       "      <td>test/14833</td>\n",
       "    </tr>\n",
       "    <tr>\n",
       "      <th>5</th>\n",
       "      <td>AUSTRALIAN FOREIGN SHIP BAN ENDS BUT NSW PORTS...</td>\n",
       "      <td>test/14839</td>\n",
       "    </tr>\n",
       "    <tr>\n",
       "      <th>6</th>\n",
       "      <td>INDONESIAN COMMODITY EXCHANGE MAY EXPAND The I...</td>\n",
       "      <td>test/14840</td>\n",
       "    </tr>\n",
       "    <tr>\n",
       "      <th>7</th>\n",
       "      <td>SRI LANKA GETS USDA APPROVAL FOR WHEAT PRICE F...</td>\n",
       "      <td>test/14841</td>\n",
       "    </tr>\n",
       "    <tr>\n",
       "      <th>8</th>\n",
       "      <td>WESTERN MINING TO OPEN NEW GOLD MINE IN AUSTRA...</td>\n",
       "      <td>test/14842</td>\n",
       "    </tr>\n",
       "    <tr>\n",
       "      <th>9</th>\n",
       "      <td>SUMITOMO BANK AIMS AT QUICK RECOVERY FROM MERG...</td>\n",
       "      <td>test/14843</td>\n",
       "    </tr>\n",
       "  </tbody>\n",
       "</table>\n",
       "</div>"
      ],
      "text/plain": [
       "                                             content          id\n",
       "0  ASIAN EXPORTERS FEAR DAMAGE FROM U.S.-JAPAN RI...  test/14826\n",
       "1  CHINA DAILY SAYS VERMIN EAT 7-12 PCT GRAIN STO...  test/14828\n",
       "2  JAPAN TO REVISE LONG-TERM ENERGY DEMAND DOWNWA...  test/14829\n",
       "3  THAI TRADE DEFICIT WIDENS IN FIRST QUARTER Tha...  test/14832\n",
       "4  INDONESIA SEES CPO PRICE RISING SHARPLY Indone...  test/14833\n",
       "5  AUSTRALIAN FOREIGN SHIP BAN ENDS BUT NSW PORTS...  test/14839\n",
       "6  INDONESIAN COMMODITY EXCHANGE MAY EXPAND The I...  test/14840\n",
       "7  SRI LANKA GETS USDA APPROVAL FOR WHEAT PRICE F...  test/14841\n",
       "8  WESTERN MINING TO OPEN NEW GOLD MINE IN AUSTRA...  test/14842\n",
       "9  SUMITOMO BANK AIMS AT QUICK RECOVERY FROM MERG...  test/14843"
      ]
     },
     "execution_count": 28,
     "metadata": {},
     "output_type": "execute_result"
    }
   ],
   "source": [
    "# creating dataframe of documents and ids\n",
    "corpus = [{\"id\": idu, \"content\": \" \".join(reuters.raw(idu).split())} for idu in reuters.fileids()]\n",
    "corpus = pd.DataFrame(corpus)\n",
    "print(corpus.shape)\n",
    "corpus.head(10)"
   ]
  },
  {
   "cell_type": "markdown",
   "metadata": {},
   "source": [
    "In order to preprocess our data to speed the search we will build the Document Term Matrix. This matrix has its columns being the documents, the rows being its individual words and the values are counts of how many times the word appears in the document."
   ]
  },
  {
   "cell_type": "code",
   "execution_count": 41,
   "metadata": {},
   "outputs": [
    {
     "name": "stdout",
     "output_type": "stream",
     "text": [
      "(30916, 10788)\n"
     ]
    },
    {
     "data": {
      "text/html": [
       "<div>\n",
       "<style>\n",
       "    .dataframe thead tr:only-child th {\n",
       "        text-align: right;\n",
       "    }\n",
       "\n",
       "    .dataframe thead th {\n",
       "        text-align: left;\n",
       "    }\n",
       "\n",
       "    .dataframe tbody tr th {\n",
       "        vertical-align: top;\n",
       "    }\n",
       "</style>\n",
       "<table border=\"1\" class=\"dataframe\">\n",
       "  <thead>\n",
       "    <tr style=\"text-align: right;\">\n",
       "      <th></th>\n",
       "      <th>test/14833</th>\n",
       "      <th>test/14839</th>\n",
       "      <th>test/14840</th>\n",
       "      <th>test/14841</th>\n",
       "      <th>test/14842</th>\n",
       "      <th>test/14843</th>\n",
       "      <th>test/14844</th>\n",
       "      <th>test/14849</th>\n",
       "    </tr>\n",
       "  </thead>\n",
       "  <tbody>\n",
       "    <tr>\n",
       "      <th>arkadi</th>\n",
       "      <td>0</td>\n",
       "      <td>0</td>\n",
       "      <td>0</td>\n",
       "      <td>0</td>\n",
       "      <td>0</td>\n",
       "      <td>0</td>\n",
       "      <td>0</td>\n",
       "      <td>0</td>\n",
       "    </tr>\n",
       "    <tr>\n",
       "      <th>arkansas</th>\n",
       "      <td>0</td>\n",
       "      <td>0</td>\n",
       "      <td>0</td>\n",
       "      <td>0</td>\n",
       "      <td>0</td>\n",
       "      <td>0</td>\n",
       "      <td>0</td>\n",
       "      <td>0</td>\n",
       "    </tr>\n",
       "    <tr>\n",
       "      <th>arkla</th>\n",
       "      <td>0</td>\n",
       "      <td>0</td>\n",
       "      <td>0</td>\n",
       "      <td>0</td>\n",
       "      <td>0</td>\n",
       "      <td>0</td>\n",
       "      <td>0</td>\n",
       "      <td>0</td>\n",
       "    </tr>\n",
       "    <tr>\n",
       "      <th>arl</th>\n",
       "      <td>0</td>\n",
       "      <td>0</td>\n",
       "      <td>0</td>\n",
       "      <td>0</td>\n",
       "      <td>0</td>\n",
       "      <td>0</td>\n",
       "      <td>0</td>\n",
       "      <td>0</td>\n",
       "    </tr>\n",
       "    <tr>\n",
       "      <th>arlan</th>\n",
       "      <td>0</td>\n",
       "      <td>0</td>\n",
       "      <td>0</td>\n",
       "      <td>0</td>\n",
       "      <td>0</td>\n",
       "      <td>0</td>\n",
       "      <td>0</td>\n",
       "      <td>0</td>\n",
       "    </tr>\n",
       "    <tr>\n",
       "      <th>arland</th>\n",
       "      <td>0</td>\n",
       "      <td>0</td>\n",
       "      <td>0</td>\n",
       "      <td>0</td>\n",
       "      <td>0</td>\n",
       "      <td>0</td>\n",
       "      <td>0</td>\n",
       "      <td>0</td>\n",
       "    </tr>\n",
       "    <tr>\n",
       "      <th>arm</th>\n",
       "      <td>0</td>\n",
       "      <td>0</td>\n",
       "      <td>0</td>\n",
       "      <td>0</td>\n",
       "      <td>0</td>\n",
       "      <td>0</td>\n",
       "      <td>0</td>\n",
       "      <td>0</td>\n",
       "    </tr>\n",
       "    <tr>\n",
       "      <th>armacost</th>\n",
       "      <td>0</td>\n",
       "      <td>0</td>\n",
       "      <td>0</td>\n",
       "      <td>0</td>\n",
       "      <td>0</td>\n",
       "      <td>0</td>\n",
       "      <td>0</td>\n",
       "      <td>0</td>\n",
       "    </tr>\n",
       "    <tr>\n",
       "      <th>armand</th>\n",
       "      <td>0</td>\n",
       "      <td>0</td>\n",
       "      <td>0</td>\n",
       "      <td>0</td>\n",
       "      <td>0</td>\n",
       "      <td>0</td>\n",
       "      <td>0</td>\n",
       "      <td>0</td>\n",
       "    </tr>\n",
       "    <tr>\n",
       "      <th>armco</th>\n",
       "      <td>0</td>\n",
       "      <td>0</td>\n",
       "      <td>0</td>\n",
       "      <td>0</td>\n",
       "      <td>0</td>\n",
       "      <td>0</td>\n",
       "      <td>0</td>\n",
       "      <td>0</td>\n",
       "    </tr>\n",
       "  </tbody>\n",
       "</table>\n",
       "</div>"
      ],
      "text/plain": [
       "          test/14833  test/14839  test/14840  test/14841  test/14842  \\\n",
       "arkadi             0           0           0           0           0   \n",
       "arkansas           0           0           0           0           0   \n",
       "arkla              0           0           0           0           0   \n",
       "arl                0           0           0           0           0   \n",
       "arlan              0           0           0           0           0   \n",
       "arland             0           0           0           0           0   \n",
       "arm                0           0           0           0           0   \n",
       "armacost           0           0           0           0           0   \n",
       "armand             0           0           0           0           0   \n",
       "armco              0           0           0           0           0   \n",
       "\n",
       "          test/14843  test/14844  test/14849  \n",
       "arkadi             0           0           0  \n",
       "arkansas           0           0           0  \n",
       "arkla              0           0           0  \n",
       "arl                0           0           0  \n",
       "arlan              0           0           0  \n",
       "arland             0           0           0  \n",
       "arm                0           0           0  \n",
       "armacost           0           0           0  \n",
       "armand             0           0           0  \n",
       "armco              0           0           0  "
      ]
     },
     "execution_count": 41,
     "metadata": {},
     "output_type": "execute_result"
    }
   ],
   "source": [
    "# selecting data\n",
    "docs = corpus['content'].values\n",
    "names = corpus['id'].values\n",
    "# building matrix\n",
    "vectorizer = CountVectorizer()\n",
    "x1 = vectorizer.fit_transform(docs)\n",
    "term_matrix = pd.DataFrame(x1.toarray().transpose(), index=vectorizer.get_feature_names())\n",
    "term_matrix.columns = names\n",
    "print(term_matrix.shape)\n",
    "term_matrix.iloc[3260:3270, 4:12]"
   ]
  },
  {
   "cell_type": "markdown",
   "metadata": {},
   "source": [
    "To execute the actual search we will use an algorithm called [BM25](https://en.wikipedia.org/wiki/Okapi_BM25 \"algorithm wikipedis's page\"). The function that makes the search is the follow:"
   ]
  },
  {
   "cell_type": "code",
   "execution_count": 54,
   "metadata": {
    "collapsed": true
   },
   "outputs": [],
   "source": [
    "def search(query, corpus2=corpus.copy()):\n",
    "    # algorithm parameters\n",
    "    k = 1.5\n",
    "    b = 0.75\n",
    "    # calculating search time\n",
    "    t00 = time.time()\n",
    "    # splittng query into words\n",
    "    query_words = query.split()\n",
    "    # selecting rows from doc term matrix only for query words\n",
    "    freq_word_doc = term_matrix.loc[query_words].dropna()\n",
    "    freq_m = np.matrix(freq_word_doc)\n",
    "    # number of documents containing word qi\n",
    "    n_wordi = freq_word_doc.apply(lambda x: sum(x > 0), axis=1)\n",
    "    # number of words for each document\n",
    "    len_doc = term_matrix.apply(lambda x: sum(x), axis=0)\n",
    "    # average document lenght in the collection\n",
    "    avg_len_doc = sum(len_doc)/len(len_doc)\n",
    "    # number of documents in the collection\n",
    "    num_doc = term_matrix.shape[1]\n",
    "    # IDFs for each word\n",
    "    idfs = n_wordi.apply(lambda x: math.log((num_doc - x + 0.5) / (x + 0.5)))\n",
    "    idfs_m = np.matrix(idfs)\n",
    "    len_doc_m = np.matrix([len_doc for i in range(len(idfs))])\n",
    "    # calculating scores using bm25\n",
    "    lens_m = k * (1 - b + (b * len_doc_m / avg_len_doc))\n",
    "    div = (freq_m * (k + 1)) / (freq_m + lens_m)\n",
    "    fin = idfs_m * div\n",
    "    # inserting score column in the dataframe\n",
    "    for it in range(len(names)):\n",
    "        corpus2.loc[corpus2['id'] == names[it], 'score'] = fin.tolist()[0][it]\n",
    "    # sorting documents by score\n",
    "    corpus2.sort_values(by='score', ascending=False, inplace=True)\n",
    "    print('search time: {} s'.format(str(time.time() - t00)))\n",
    "    return corpus2"
   ]
  },
  {
   "cell_type": "markdown",
   "metadata": {},
   "source": [
    "With the search function built and our documents corpus ready we can execute a search. To test its quality We will select a document randomly from the corpus:"
   ]
  },
  {
   "cell_type": "code",
   "execution_count": 49,
   "metadata": {},
   "outputs": [
    {
     "name": "stdout",
     "output_type": "stream",
     "text": [
      "training/3890\n",
      "\n",
      "HEINZ &lt;HNZ> HAS HIGHER NET DESPITE HIGHER COSTS H.J. Heinz Co said net income for the third quarter rose 18.2 pct despite an 17.2 pct increase in marketing expenses. Meanwhile, the company said it raised its quarterly dividend to 28 cts a share from 25 cts a share in part on the expectation that its tax rate under the new tax law will result in greater cash flow. For the third quarter ended January 31, Heinz earned 74.7 mln dlrs, or 55 cts a share, up from earnings of 63.2 mln dlrs, or 46 cts a share, for the year-ago quarter. For the nine months, the company posted a profit of 244.4 mln dlrs, or 1.78 dlrs a share, compared with a profit of 219.7 mln dlrs, or 1.60 dlrs a share, for the year-ago period. \"Based on the company's performance for the first nine months, we expect to achieve our 23rd consecutive year of new growth records,\" Anthony J.F. O'Reilly, Heinz's newly elected chairman.\n"
     ]
    }
   ],
   "source": [
    "doc_number = random.randint(0,corpus.shape[0])\n",
    "print(corpus.loc[doc_number]['id'])\n",
    "print()\n",
    "print(corpus.loc[doc_number]['content'])"
   ]
  },
  {
   "cell_type": "markdown",
   "metadata": {},
   "source": [
    "Now we build a search query to find this document:"
   ]
  },
  {
   "cell_type": "code",
   "execution_count": 50,
   "metadata": {
    "collapsed": true
   },
   "outputs": [],
   "source": [
    "query = 'heinz net income and dividends'"
   ]
  },
  {
   "cell_type": "markdown",
   "metadata": {},
   "source": [
    "Executing the search:"
   ]
  },
  {
   "cell_type": "code",
   "execution_count": 55,
   "metadata": {},
   "outputs": [
    {
     "name": "stdout",
     "output_type": "stream",
     "text": [
      "search time: 58.41211223602295 s\n",
      "\n",
      "                                                content              id  \\\n",
      "6845  HEINZ &lt;HNZ> HAS HIGHER NET DESPITE HIGHER C...   training/3890   \n",
      "8350  H.J. HEINZ &lt;HNZ> POISED FOR RECORD YEAR H.J...   training/6215   \n",
      "3544  CLABIR &lt;CLG> DIVIDENDS NOT TAXABLE Clabir C...  training/10817   \n",
      "6819  H.J. HEINZ RAISES QUARTERLY TO 28 CTS FROM 25 ...   training/3851   \n",
      "6818  H.J. HEINZ CO 3RD QTR SHR 55 CTS VS 46 CTS H.J...   training/3850   \n",
      "\n",
      "          score  \n",
      "6845  15.382090  \n",
      "8350  14.351927  \n",
      "3544  13.754047  \n",
      "6819  12.674172  \n",
      "6818  12.586586  \n"
     ]
    }
   ],
   "source": [
    "res = search(query=query)\n",
    "print()\n",
    "print(res.head())"
   ]
  },
  {
   "cell_type": "markdown",
   "metadata": {},
   "source": [
    "We can see the first result is exactly our chosen news article"
   ]
  },
  {
   "cell_type": "code",
   "execution_count": null,
   "metadata": {
    "collapsed": true
   },
   "outputs": [],
   "source": []
  },
  {
   "cell_type": "code",
   "execution_count": null,
   "metadata": {
    "collapsed": true
   },
   "outputs": [],
   "source": []
  },
  {
   "cell_type": "code",
   "execution_count": null,
   "metadata": {
    "collapsed": true
   },
   "outputs": [],
   "source": []
  },
  {
   "cell_type": "code",
   "execution_count": null,
   "metadata": {
    "collapsed": true
   },
   "outputs": [],
   "source": []
  }
 ],
 "metadata": {
  "kernelspec": {
   "display_name": "Python 3",
   "language": "python",
   "name": "python3"
  },
  "language_info": {
   "codemirror_mode": {
    "name": "ipython",
    "version": 3
   },
   "file_extension": ".py",
   "mimetype": "text/x-python",
   "name": "python",
   "nbconvert_exporter": "python",
   "pygments_lexer": "ipython3",
   "version": "3.5.2"
  }
 },
 "nbformat": 4,
 "nbformat_minor": 2
}
